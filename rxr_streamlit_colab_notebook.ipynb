{
  "cells": [
    {
      "cell_type": "markdown",
      "metadata": {
        "id": "view-in-github",
        "colab_type": "text"
      },
      "source": [
        "<a href=\"https://colab.research.google.com/github/Ryn-RaR/rxr-ai-chatbot/blob/main/rxr_streamlit_colab_notebook.ipynb\" target=\"_parent\"><img src=\"https://colab.research.google.com/assets/colab-badge.svg\" alt=\"Open In Colab\"/></a>"
      ]
    },
    {
      "cell_type": "markdown",
      "id": "b72c319f",
      "metadata": {
        "id": "b72c319f"
      },
      "source": [
        "# 🧼 RxR Streamlit Pricing App (Colab Version)\n",
        "Use this notebook to build, tweak, and test your RxR pricing logic before deployment."
      ]
    },
    {
      "cell_type": "code",
      "execution_count": null,
      "id": "535121e5",
      "metadata": {
        "id": "535121e5"
      },
      "outputs": [],
      "source": [
        "import streamlit as st\n",
        "\n",
        "st.set_page_config(page_title=\"RxR Service Estimator\")\n",
        "st.title(\"🧼 RxR Service Estimator\")\n"
      ]
    },
    {
      "cell_type": "markdown",
      "id": "ebf3db69",
      "metadata": {
        "id": "ebf3db69"
      },
      "source": [
        "## 🚀 Why RxR Section"
      ]
    },
    {
      "cell_type": "code",
      "execution_count": null,
      "id": "d849d289",
      "metadata": {
        "id": "d849d289"
      },
      "outputs": [],
      "source": [
        "st.markdown(\"\"\"\n",
        "## Why RxR?\n",
        "Experience high-tier detailing that goes beyond surface-level. RxR delivers:\n",
        "- Professional-grade hand washes and multi-layer protection\n",
        "- Paint-safe polishing and restorative treatments\n",
        "- Deep-cleaned interiors using extraction and steam\n",
        "- Premium add-ons for those who demand excellence\n",
        "\n",
        "Before accessing our pricing options, know that every journey starts with:\n",
        "\n",
        "### 🛠️ Maintenance Detail\n",
        "An initial deep clean and inspection to restore your vehicle and assess the best plan moving forward.\n",
        "\n",
        "**Includes:**\n",
        "- 2-Bucket Wash\n",
        "- Buff/Polish\n",
        "- Tire & Trim Dressing\n",
        "- Carpet & Leather Extraction\n",
        "- Dashboard Cleaning\n",
        "\n",
        "**Prices (Starting at):**\n",
        "- Car: ~$300\n",
        "- Mid-size SUV: ~$350\n",
        "- Truck/SUV: ~$400\n",
        "\n",
        "After this, custom packages and subscriptions may be unlocked.\n",
        "\"\"\")\n",
        "\n",
        "st.markdown(\"---\")\n"
      ]
    },
    {
      "cell_type": "markdown",
      "id": "af99cde0",
      "metadata": {
        "id": "af99cde0"
      },
      "source": [
        "## 🚘 Vehicle Type & Services"
      ]
    },
    {
      "cell_type": "code",
      "execution_count": null,
      "id": "bb410377",
      "metadata": {
        "id": "bb410377"
      },
      "outputs": [],
      "source": [
        "vehicle_type = st.selectbox(\"Select your vehicle type:\", [\n",
        "    \"Motorcycle\", \"2-door Car\", \"4-door Car\", \"Mid-size SUV\", \"SUV & Truck\"\n",
        "])\n",
        "\n",
        "service_matrix = {\n",
        "    \"Bright & Bold Interior OR Exterior\": {\"Motorcycle\": 200, \"2-door Car\": 215, \"4-door Car\": 220, \"Mid-size SUV\": 225, \"SUV & Truck\": 230},\n",
        "    \"Full Interior + Exterior\": {\n",
        "        \"Motorcycle\": 350, \"2-door Car\": 370, \"4-door Car\": 380, \"Mid-size SUV\": 390, \"SUV & Truck\": 400\n",
        "    },\n",
        "    \"Marbled Clay Buff/Polish/Sealed\": {\n",
        "        \"Motorcycle\": 555, \"2-door Car\": 777, \"4-door Car\": 777, \"Mid-size SUV\": 888, \"SUV & Truck\": 999\n",
        "    },\n",
        "    \"Golden-Ink Signature\": {\n",
        "        \"Motorcycle\": 450, \"2-door Car\": 500, \"4-door Car\": 500, \"Mid-size SUV\": 550, \"SUV & Truck\": 575\n",
        "    }\n",
        "}\n",
        "\n",
        "subscription_tiers = [\"Marbled Clay Buff/Polish/Sealed\", \"Golden-Ink Signature\"]\n",
        "\n",
        "filtered_services = [service for service in service_matrix.keys()]\n",
        "selected_services = st.multiselect(\"Choose services to include in your estimate:\", filtered_services, default=[], key=\"service_selector\")\n"
      ]
    },
    {
      "cell_type": "markdown",
      "id": "fbdc9292",
      "metadata": {
        "id": "fbdc9292"
      },
      "source": [
        "## 🧴 Add-Ons"
      ]
    },
    {
      "cell_type": "code",
      "execution_count": null,
      "id": "9125dc2e",
      "metadata": {
        "id": "9125dc2e"
      },
      "outputs": [],
      "source": [
        "add_ons = {\n",
        "    \"Headlight Restoration\": 60,\n",
        "    \"Engine Bay Cleaning\": 75,\n",
        "    \"Leather Conditioning\": 60,\n",
        "    \"Stain & Fabric Protection\": 75,\n",
        "    \"Odor/Ozone Treatment\": 100,\n",
        "    \"Trim & Tire Dressing\": 50,\n",
        "    \"Pet Hair/Biohazard\": 150\n",
        "}\n",
        "\n",
        "selected_addons = st.multiselect(\"Add optional extras:\", list(add_ons.keys()), default=[], key=\"addon_selector\")\n"
      ]
    },
    {
      "cell_type": "markdown",
      "id": "40594aca",
      "metadata": {
        "id": "40594aca"
      },
      "source": [
        "## 💵 Price Estimator"
      ]
    },
    {
      "cell_type": "code",
      "execution_count": null,
      "id": "4d9353ec",
      "metadata": {
        "id": "4d9353ec"
      },
      "outputs": [],
      "source": [
        "subtotal = 0\n",
        "for service in selected_services:\n",
        "    subtotal += service_matrix[service][vehicle_type]\n",
        "\n",
        "for addon in selected_addons:\n",
        "    subtotal += add_ons[addon]\n",
        "\n",
        "st.markdown(\"---\")\n",
        "st.subheader(\"Estimated Total:\")\n",
        "st.markdown(f\"### ~ ${subtotal:.2f}\")\n",
        "st.caption(\"*All prices are approximate and vary by soot level, surface condition, and time investment.*\")\n"
      ]
    },
    {
      "cell_type": "markdown",
      "id": "7956f165",
      "metadata": {
        "id": "7956f165"
      },
      "source": [
        "## 📦 Package Summaries"
      ]
    },
    {
      "cell_type": "code",
      "execution_count": null,
      "id": "645b1901",
      "metadata": {
        "id": "645b1901"
      },
      "outputs": [],
      "source": [
        "if \"Bright & Bold Interior OR Exterior\" in selected_services:\n",
        "    st.markdown(\"---\")\n",
        "    st.subheader(\"What's Included in Bright & Bold Interior OR Exterior:\")\n",
        "    st.markdown(\"\"\"\n",
        "    - Choose either Interior OR Exterior Focus\n",
        "    - Interior: dashboard, console, door panels deep-cleaned with microfiber and detailing brushes (Steamo-Vac: for deeper cleaning ~$15)+(Extracto-Vac: for best ~$30)\n",
        "    - Exterior: receives a powerwash multi-coat soak, foam drench soap, tires shined with wells cleaned, completed with a glossy wax wipedown\n",
        "\n",
        "    **Total Starting Price:**\n",
        "    - Motorcycle: ~$200\n",
        "    - 2-door Car: ~$215\n",
        "    - 4-door Car: ~$220\n",
        "    - Mid-size SUV: ~$225\n",
        "    - SUV & Truck: ~$230\n",
        "    \"\"\")\n",
        "\n",
        "if \"Full Interior + Exterior\" in selected_services:\n",
        "    st.markdown(\"---\")\n",
        "    st.subheader(\"What's Included in Full Interior + Exterior Detail:\")\n",
        "    st.markdown(\"\"\"\n",
        "    - Interior Wipe Down & Vacuum\n",
        "    - Steam Cleaning\n",
        "    - Exterior Foam Bath\n",
        "    - Towel Dry + Wheel & Rim Detail\n",
        "\n",
        "    **Total Starting Price:**\n",
        "    - Motorcycle: ~$350\n",
        "    - 2-door Car: ~$370\n",
        "    - 4-door Car: ~$380\n",
        "    - Mid-size SUV: ~$390\n",
        "    - SUV & Truck: ~$400\n",
        "    \"\"\")\n",
        "\n",
        "if \"Marbled Clay Buff/Polish/Sealed\" in selected_services:\n",
        "    st.markdown(\"---\")\n",
        "    st.subheader(\"What's Included in Marbled Clay Buff/Polish/Sealed:\")\n",
        "    st.markdown(\"\"\"\n",
        "    - Hand Wash\n",
        "    - Iron Decontamination\n",
        "    - Clay Bar Treatment\n",
        "    - Buff & Polish\n",
        "    - Paint Sealant\n",
        "    - Tire & Trim Dressing\n",
        "    - Glass Finish\n",
        "\n",
        "    **Total Starting Price:**\n",
        "    - Motorcycle: ~$555\n",
        "    - 2-door & 4-door Cars: ~$777\n",
        "    - Mid-size SUV: ~$888\n",
        "    - SUV & Truck: ~$999\n",
        "    \"\"\")\n"
      ]
    }
  ],
  "metadata": {
    "colab": {
      "provenance": [],
      "include_colab_link": true
    },
    "language_info": {
      "name": "python"
    },
    "kernelspec": {
      "name": "python3",
      "display_name": "Python 3"
    }
  },
  "nbformat": 4,
  "nbformat_minor": 5
}